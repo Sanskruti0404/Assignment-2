{
 "cells": [
  {
   "cell_type": "markdown",
   "id": "ba7f1bb0-2e76-45cf-baed-5dca84f4dee6",
   "metadata": {},
   "source": [
    "## Assignment 2"
   ]
  },
  {
   "cell_type": "markdown",
   "id": "213b84b5-1d3f-49ad-8e11-a686843a6aef",
   "metadata": {},
   "source": [
    "Q1. How do you comment code in Python? What are the different types of comments?\n",
    "\n",
    "Ans- In python we can commint a code using # so word words or a code will not execute . Types- There are two most comman commints are single line commint and multi line commints\n",
    "\n",
    "- Single line commints are use to commint code using #\n",
    "- Multi line commint used to commint code using (\"\"\" xyz \"\"\" or ''' xyz ''')"
   ]
  },
  {
   "cell_type": "code",
   "execution_count": 1,
   "id": "53b2afbe-9b31-4efe-8002-a61b3c2099ac",
   "metadata": {},
   "outputs": [
    {
     "data": {
      "text/plain": [
       "\"'Multi line commint \\nThis is a multi line commint \\nx = 20 \\ny = 29 \\nz = x - y \\nprint(z)\\n\\n\""
      ]
     },
     "execution_count": 1,
     "metadata": {},
     "output_type": "execute_result"
    }
   ],
   "source": [
    "#Single line commints \n",
    "#ex- \n",
    "#This is single line commint \n",
    "#x = 20\n",
    "# print(x)\n",
    " \n",
    "\n",
    "''''Multi line commint \n",
    "This is a multi line commint \n",
    "x = 20 \n",
    "y = 29 \n",
    "z = x - y \n",
    "print(z)\n",
    "\n",
    "'''\n"
   ]
  },
  {
   "cell_type": "markdown",
   "id": "b697a9a4-4eac-4e35-86b1-e7df007205b2",
   "metadata": {},
   "source": [
    "Ans (2) - Variables in python is like a continer which contain the values in python we do't need to intitialize it with data type like other programming language.\n",
    "\n",
    "When initializing variables in Python, there are a few rules and conventions to keep in mind:\n",
    "\n",
    "-Variable Names: Choose meaningful and descriptive names for your variables to improve code readability. Variable names can consist of letters (a-z, A-Z), digits (0-9), and underscores (_). They should start with a letter or an underscore but cannot start with a digit. Python is case-sensitive, so 'myVariable' and 'myvariable' would be treated as two different variables.\n",
    "\n",
    "-Avoid Reserved Words: Do not use reserved words or keywords as variable names since they have predefined meanings in Python. For example, you cannot use if, while, for, def, class, or import as variable names.\n",
    "\n",
    "-Initialization: It is not mandatory to initialize variables at the time of declaration. However, it's good practice to initialize variables with an initial value to avoid potential errors or confusion. Uninitialized variables will have a default value of None until assigned a value.\n",
    "\n",
    "-Dynamic Typing: Python is dynamically typed, meaning you can assign values of different types to the same variable. You don't need to explicitly declare the type of a variable, as Python determines it based on the assigned value. For example, x = 5 will create an integer variable, while x = \"Hello\" will create a string variable.\n",
    "\n",
    "-Constants: In Python, there is no strict concept of constants. However, it is conventionally followed to use uppercase names to indicate that a variable's value should not be changed. Although the value can still be modified, it signals to other developers that it is intended to be constant. For example, PI = 3.14159.\n",
    "\n",
    "-Reassignment: You can assign a new value to an existing variable at any point in your code. Python allows variables to be reassigned with values of different types. For example, you can assign an integer value initially and later assign it a string value.\n",
    "\n",
    "-Scope: Variables have a scope, which defines where they can be accessed. Variables declared within a function have local scope and are only accessible within that function. Variables declared outside any function, at the module level, have global scope and can be accessed throughout the module."
   ]
  },
  {
   "cell_type": "code",
   "execution_count": 2,
   "id": "5ba228bf-c84b-406f-969e-74fc0e3550ff",
   "metadata": {},
   "outputs": [
    {
     "name": "stdout",
     "output_type": "stream",
     "text": [
      "My name is  Sanskruti Giri and my age is  22\n"
     ]
    }
   ],
   "source": [
    "# we can declare and assign values to variables like this \n",
    "#Ex-\n",
    "age = 22 \n",
    "name = 'Sanskruti Giri'\n",
    "print('My name is ', name ,'and my age is ',age)\n",
    "     "
   ]
  },
  {
   "cell_type": "code",
   "execution_count": 3,
   "id": "e2833bc7-ed55-4f3c-8f9b-657d7bb9132f",
   "metadata": {},
   "outputs": [
    {
     "name": "stdout",
     "output_type": "stream",
     "text": [
      "<class 'int'>\n",
      "<class 'str'>\n"
     ]
    }
   ],
   "source": [
    "## Q3\n",
    "#Ex-\n",
    "age = 20 \n",
    "print(type(age))\n",
    "age = str(age)\n",
    "print(type(age))\n",
    "     "
   ]
  },
  {
   "cell_type": "markdown",
   "id": "79de28d1-be25-407c-8a8b-c39e633481da",
   "metadata": {},
   "source": [
    "Ans (4) We will first creat a file in our device and then write a code then we save it .\n",
    "\n",
    "Then we open a terminal or command line and type 'python3 file_name.py' and execute it if the directory of that file is diffrent so we can change the directory using \"cd \" command ."
   ]
  },
  {
   "cell_type": "code",
   "execution_count": 4,
   "id": "87c504f7-9330-4a4a-9858-bd01dd0759e4",
   "metadata": {},
   "outputs": [
    {
     "name": "stdout",
     "output_type": "stream",
     "text": [
      "[2, 3]\n"
     ]
    }
   ],
   "source": [
    "#Q5\n",
    "#Ex- \n",
    "my_list = [1, 2, 3, 4, 5]\n",
    "print(my_list[1:3])\n",
    "     "
   ]
  },
  {
   "cell_type": "markdown",
   "id": "f0648a89-5ee1-430a-be84-e2d83a4b05db",
   "metadata": {},
   "source": [
    "Ans(6)-In maths complex number contain both real part and imagenary part , which is expresed as a +bi , a is the real part and b is the imagenary part\n",
    "\n",
    "n Python, complex numbers are supported as a built-in numeric data type. They are represented using the complex class, and the imaginary part is denoted by appending a \"j\" or \"J\" to the number. The real and imaginary parts can be integers, floating-point numbers, or expressions that evaluate to numbers."
   ]
  },
  {
   "cell_type": "code",
   "execution_count": 5,
   "id": "1e63c942-99db-4e2d-ad29-1ec725ebdec4",
   "metadata": {},
   "outputs": [
    {
     "name": "stdout",
     "output_type": "stream",
     "text": [
      "<class 'complex'>\n"
     ]
    }
   ],
   "source": [
    "#in python complex number \n",
    "complexnum = 2 + 4j\n",
    "print(type(complexnum))"
   ]
  },
  {
   "cell_type": "code",
   "execution_count": 7,
   "id": "d1e4270e-8906-4663-a5af-449104202c14",
   "metadata": {},
   "outputs": [
    {
     "name": "stdout",
     "output_type": "stream",
     "text": [
      "25\n",
      "<class 'int'>\n"
     ]
    }
   ],
   "source": [
    "#Q7\n",
    "age = 25\n",
    "print(age)\n",
    "print(type(age))"
   ]
  },
  {
   "cell_type": "code",
   "execution_count": 8,
   "id": "5c513a04-21a2-4244-8afc-74c4eae9fce6",
   "metadata": {},
   "outputs": [
    {
     "name": "stdout",
     "output_type": "stream",
     "text": [
      "9.99\n",
      "<class 'float'>\n"
     ]
    }
   ],
   "source": [
    "#Q8\n",
    "#Ans -\n",
    "price = 9.99\n",
    "print(price)\n",
    "print(type(price))\n",
    "     "
   ]
  },
  {
   "cell_type": "code",
   "execution_count": 10,
   "id": "41774768-7190-4046-ac49-1c1c240674ed",
   "metadata": {},
   "outputs": [
    {
     "name": "stdout",
     "output_type": "stream",
     "text": [
      "Sanskruti Giri\n"
     ]
    }
   ],
   "source": [
    "#Q9\n",
    "name = 'Sanskruti Giri'\n",
    "print(name)\n",
    "     "
   ]
  },
  {
   "cell_type": "code",
   "execution_count": 11,
   "id": "896481a3-46d6-4ffb-a8b0-0ebac2463913",
   "metadata": {},
   "outputs": [
    {
     "name": "stdout",
     "output_type": "stream",
     "text": [
      "World\n"
     ]
    }
   ],
   "source": [
    "#Q10\n",
    "string = \"Hello, World!\"\n",
    "print(string[7:12])"
   ]
  },
  {
   "cell_type": "code",
   "execution_count": 12,
   "id": "cae2131b-1fc0-4dec-bd8d-4f72b5ec4c00",
   "metadata": {},
   "outputs": [
    {
     "name": "stdout",
     "output_type": "stream",
     "text": [
      "True\n"
     ]
    },
    {
     "name": "stdin",
     "output_type": "stream",
     "text": [
      "Please type True if you are a student and \n",
      "type False if you are not a student False\n"
     ]
    },
    {
     "name": "stdout",
     "output_type": "stream",
     "text": [
      "You are not a student \n"
     ]
    }
   ],
   "source": [
    "#Q11\n",
    "is_student = True \n",
    "print(is_student)\n",
    "# or a small code to ask user whather he/ she is a student or not \n",
    "is_student = input('''Please type True if you are a student and \n",
    "type False if you are not a student''')\n",
    "\n",
    "if is_student == True :\n",
    "  print('You are a student ')\n",
    "else:\n",
    "  print('You are not a student ')"
   ]
  },
  {
   "cell_type": "code",
   "execution_count": null,
   "id": "e9ba7e90-382b-4119-b12a-75015734098e",
   "metadata": {},
   "outputs": [],
   "source": []
  }
 ],
 "metadata": {
  "kernelspec": {
   "display_name": "Python 3 (ipykernel)",
   "language": "python",
   "name": "python3"
  },
  "language_info": {
   "codemirror_mode": {
    "name": "ipython",
    "version": 3
   },
   "file_extension": ".py",
   "mimetype": "text/x-python",
   "name": "python",
   "nbconvert_exporter": "python",
   "pygments_lexer": "ipython3",
   "version": "3.10.8"
  }
 },
 "nbformat": 4,
 "nbformat_minor": 5
}
